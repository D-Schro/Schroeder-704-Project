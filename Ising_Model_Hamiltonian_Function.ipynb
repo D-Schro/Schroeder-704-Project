{
 "cells": [
  {
   "cell_type": "code",
   "execution_count": 2,
   "id": "c66b2f99",
   "metadata": {},
   "outputs": [],
   "source": [
    "import matplotlib as plt\n",
    "import numpy as np\n",
    "import scipy\n",
    "import pandas as pd\n",
    "from sympy import *\n",
    "import math\n",
    "import qutip\n",
    "import qutip as Q\n",
    "import random"
   ]
  },
  {
   "cell_type": "code",
   "execution_count": 5,
   "id": "17103247",
   "metadata": {},
   "outputs": [],
   "source": [
    "def ising_model_hamiltonian(L, J, g, periodic): # L = length of spin chain, J = overall constant, g = constant applied to field term\n",
    "    # Identity and Pauli matrices for spin 1/2\n",
    "    I = Q.qeye(2)\n",
    "    z = Q.sigmaz()\n",
    "    x = Q.sigmax()\n",
    "\n",
    "    # create hamiltonian\n",
    "    H = 0\n",
    "\n",
    "    if periodic == 0:\n",
    "        print(\"The string of spins is not periodic\")\n",
    "    \n",
    "        # Interaction term\n",
    "        for i in range(L - 1):\n",
    "            # Tensor product betweean spin i and i+1. Other positions are identity\n",
    "            term = Q.tensor([I] * i + [z] + [z] + [I] * (L - i - 2))\n",
    "            H += term\n",
    "            #print(\"The interaction term is:\")\n",
    "            #print(term)\n",
    "\n",
    "        # Transverse field term\n",
    "        for i in range(L):\n",
    "            # Pauli x matrix at each spin in the chain while the rest are identity\n",
    "            hterm = Q.tensor([I] * i + [x] + [I] * (L - i - 1))\n",
    "            #print(\"The transverse field term is:\")\n",
    "            #print(hterm)\n",
    "            H += g * hterm\n",
    "            \n",
    "    elif periodic == 1:\n",
    "        print(\"The string of spins is periodic\")\n",
    "        for i in range(L - 1):\n",
    "            # Tensor product betweean spin i and i+1. Other positions are identity\n",
    "            term = Q.tensor([I] * i + [z] + [z] + [I] * (L - i - 2))\n",
    "            H += term\n",
    "            #print(\"The interaction term is:\")\n",
    "            #print(term)\n",
    "            \n",
    "        periodicterm = Q.tensor([I] * 0 + [z] + [I] * (L-2) + [z])\n",
    "        H += periodicterm\n",
    "        \n",
    "        # Transverse field term\n",
    "        for i in range(L):\n",
    "            # Pauli x matrix at each spin in the chain while the rest are identity\n",
    "            hterm = Q.tensor([I] * i + [x] + [I] * (L - i - 1))\n",
    "            H += g * hterm\n",
    "        \n",
    "        \n",
    "    H = -J * H\n",
    "    print(\"The Hamiltonian is:\")\n",
    "    return H"
   ]
  },
  {
   "cell_type": "code",
   "execution_count": 19,
   "id": "28f86ae2",
   "metadata": {},
   "outputs": [
    {
     "name": "stdout",
     "output_type": "stream",
     "text": [
      "The string of spins is not periodic\n",
      "The Hamiltonian is:\n",
      "Quantum object: dims=[[2, 2], [2, 2]], shape=(4, 4), type='oper', dtype=CSR, isherm=True\n",
      "Qobj data =\n",
      "[[ -1. -10. -10.   0.]\n",
      " [-10.   1.   0. -10.]\n",
      " [-10.   0.   1. -10.]\n",
      " [  0. -10. -10.  -1.]]\n",
      "Quantum object: dims=[[2], [2]], shape=(2, 2), type='oper', dtype=Dense, isherm=True\n",
      "Qobj data =\n",
      "[[0.5        0.49937617]\n",
      " [0.49937617 0.5       ]]\n",
      "Quantum object: dims=[[2], [2]], shape=(2, 2), type='oper', dtype=Dense, isherm=True\n",
      "Qobj data =\n",
      "[[0.5        0.49937617]\n",
      " [0.49937617 0.5       ]]\n"
     ]
    }
   ],
   "source": [
    "H = ising_model_hamiltonian(2,1,10,0)\n",
    "print(H)\n",
    "E, psi = H.groundstate()\n",
    "rhob = psi.ptrace([1])\n",
    "print(rhob)\n",
    "rhoa = psi.ptrace([0])\n",
    "print(rhoa)\n"
   ]
  },
  {
   "cell_type": "code",
   "execution_count": 15,
   "id": "5e5bb7b8",
   "metadata": {},
   "outputs": [],
   "source": [
    "def svd(a):\n",
    "    print(\"the original matrix is\")\n",
    "    print(a)\n",
    "    b = np.linalg.eig(np.matmul(np.transpose(a),a))\n",
    "    #c = np.linalg.eig(np.matmul(a,np.transpose(a)))\n",
    "    eigenvalues, eigenvectors = b\n",
    "    \n",
    "    #order eigenvalues and vectors in descending order\n",
    "    idx = eigenvalues.argsort()[::-1] \n",
    "    eigenvalues = eigenvalues[idx]\n",
    "    eigenvectors = eigenvectors[:,idx]\n",
    "    \n",
    "    #set near zero terms equal to zero\n",
    "    #print(eigenvalues)\n",
    "    threshold1 = abs(eigenvalues) < 10**(-8)\n",
    "    eigenvalues[threshold1] = 0\n",
    "    \n",
    "    #set near zero terms equal to zero\n",
    "    #print(eigenvectors)\n",
    "    threshold2 = abs(eigenvectors) < 10**(-8)\n",
    "    eigenvectors[threshold2] = 0\n",
    "    \n",
    "    #trim zeroes from eigenvalues to make matrix sigma\n",
    "    print(\"the eigenvalues are\")\n",
    "    print(eigenvalues)\n",
    "    eigenvalstrimmed = np.trim_zeros(eigenvalues)\n",
    "    print(\"the trimmed eigenvalues are\")\n",
    "    print(eigenvalstrimmed)\n",
    "    \n",
    "    #create matrix v\n",
    "    print(\"the eigenvectors are\")\n",
    "    print(eigenvectors)\n",
    "    v = np.transpose(eigenvectors)\n",
    "    print(\"v is\")\n",
    "    print(v)\n",
    "    \n",
    "    #Find the singular values\n",
    "    dimrow = np.count_nonzero(eigenvalstrimmed)\n",
    "    dimcolumn = len(eigenvalues)\n",
    "    sigma = np.zeros((dimrow,dimcolumn), dtype = float)\n",
    "    svals = np.sqrt(eigenvalstrimmed)\n",
    "    print(\"the singular values are\")\n",
    "    print(svals)\n",
    "    \n",
    "    #create matrix sigma\n",
    "    np.fill_diagonal(sigma, svals)\n",
    "    print(\"sigma is\")\n",
    "    print(sigma)\n",
    "    print()\n",
    "    \n",
    "    #create matrix u\n",
    "    u = np.zeros((a.shape[0], dimrow))\n",
    "    for i in range(dimrow):\n",
    "        u[:, i] = np.matmul(a/svals[i], eigenvectors[:, i])\n",
    "    print(\"u is\")\n",
    "    print(u)\n",
    "    print()\n",
    "    \n",
    "    #test if the SVD was correct\n",
    "    originaltest = np.matmul(np.matmul(u,sigma), v)\n",
    "    print(\"u*sigma*v gives\")\n",
    "    print(originaltest)\n",
    "    print()\n",
    "    \n",
    "    #print the SVD\n",
    "    print(\"the singular value decomposition for the matrix is\")\n",
    "    return u, sigma, v"
   ]
  },
  {
   "cell_type": "code",
   "execution_count": 5,
   "id": "f4c96f22",
   "metadata": {},
   "outputs": [
    {
     "name": "stdout",
     "output_type": "stream",
     "text": [
      "The string of spins is not periodic\n",
      "The Hamiltonian is:\n",
      "Quantum object: dims=[[2, 2], [2, 2]], shape=(4, 4), type='oper', dtype=CSR, isherm=True\n",
      "Qobj data =\n",
      "[[-1.  0.  0.  0.]\n",
      " [ 0.  1.  0.  0.]\n",
      " [ 0.  0.  1.  0.]\n",
      " [ 0.  0.  0. -1.]]\n",
      "(-1.0, Quantum object: dims=[[2, 2], [1, 1]], shape=(4, 1), type='ket', dtype=Dense\n",
      "Qobj data =\n",
      "[[1.]\n",
      " [0.]\n",
      " [0.]\n",
      " [0.]])\n",
      "[[1]\n",
      " [0]\n",
      " [0]\n",
      " [0]]\n"
     ]
    },
    {
     "name": "stderr",
     "output_type": "stream",
     "text": [
      "C:\\Users\\danny\\anaconda3\\Lib\\site-packages\\qutip\\core\\qobj.py:1626: UserWarning: Ground state may be degenerate.\n",
      "  warnings.warn(\"Ground state may be degenerate.\", UserWarning)\n"
     ]
    }
   ],
   "source": [
    "H = ising_model_hamiltonian(2, 1, 0, 0)\n",
    "print(H)\n",
    "G = H.groundstate()\n",
    "print(G)\n",
    "gvec = np.array([[1],[0],[0],[0]])\n",
    "print(gvec)"
   ]
  },
  {
   "cell_type": "code",
   "execution_count": 35,
   "id": "34605202",
   "metadata": {},
   "outputs": [],
   "source": [
    "def create_bipartition(vec, a_size): #input vector as well as number of spins wanted in a. Remainder will be in partition b\n",
    "    length = len(vec)\n",
    "    indexlist = list(range(length))\n",
    "    \n",
    "    random.shuffle(indexlist) #create random list to ensure random selection\n",
    "    \n",
    "    # Select a subset of the list\n",
    "    a_index = indexlist[:a_size]\n",
    "    \n",
    "    # The remaining b list\n",
    "    b_index = indexlist[a_size:]\n",
    "\n",
    "    print('The index for a spins is')\n",
    "    print(a_index)\n",
    "    print('The index for b spins is')\n",
    "    print(b_index)"
   ]
  },
  {
   "cell_type": "code",
   "execution_count": 36,
   "id": "ad38edcc",
   "metadata": {},
   "outputs": [],
   "source": [
    "def matrix_from_vector(vec, a_index, b_index):\n",
    "    a_list = []\n",
    "    for i in a_index:\n",
    "        #print(i)\n",
    "        a_list.append(vec[i][0])\n",
    "        \n",
    "    b_list = []\n",
    "    for i in b_index:\n",
    "        #print(i)\n",
    "        b_list.append(vec[i][0])\n",
    "    \n",
    "    print('The list of a spins is')\n",
    "    print(a_list)\n",
    "    print('the list of b spins is')\n",
    "    print(b_list)"
   ]
  },
  {
   "cell_type": "code",
   "execution_count": 37,
   "id": "3bf7f80e",
   "metadata": {},
   "outputs": [
    {
     "name": "stdout",
     "output_type": "stream",
     "text": [
      "The index for a spins is\n",
      "[2, 3]\n",
      "The index for b spins is\n",
      "[0, 1]\n",
      "The list of a spins is\n",
      "[3, 4]\n",
      "the list of b spins is\n",
      "[2, 1]\n"
     ]
    }
   ],
   "source": [
    "vec = np.array([[1],[2],[3],[4]])\n",
    "create_bipartition(vec, 2)\n",
    "matrix_from_vector(vec, [2,3], [1,0])"
   ]
  },
  {
   "cell_type": "code",
   "execution_count": 26,
   "id": "a44d72cd",
   "metadata": {},
   "outputs": [
    {
     "data": {
      "text/plain": [
       "array([[0, 0],\n",
       "       [0, 0]])"
      ]
     },
     "execution_count": 26,
     "metadata": {},
     "output_type": "execute_result"
    }
   ],
   "source": []
  },
  {
   "cell_type": "code",
   "execution_count": null,
   "id": "fe0bd2a1",
   "metadata": {},
   "outputs": [],
   "source": []
  }
 ],
 "metadata": {
  "kernelspec": {
   "display_name": "Python 3 (ipykernel)",
   "language": "python",
   "name": "python3"
  },
  "language_info": {
   "codemirror_mode": {
    "name": "ipython",
    "version": 3
   },
   "file_extension": ".py",
   "mimetype": "text/x-python",
   "name": "python",
   "nbconvert_exporter": "python",
   "pygments_lexer": "ipython3",
   "version": "3.11.7"
  }
 },
 "nbformat": 4,
 "nbformat_minor": 5
}
