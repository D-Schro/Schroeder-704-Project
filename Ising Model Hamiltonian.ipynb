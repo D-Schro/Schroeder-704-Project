{
 "cells": [
  {
   "cell_type": "code",
   "execution_count": 40,
   "id": "c66b2f99",
   "metadata": {},
   "outputs": [],
   "source": [
    "import matplotlib as plt\n",
    "import numpy as np\n",
    "import scipy\n",
    "import qutip\n",
    "import qutip as Q"
   ]
  },
  {
   "cell_type": "code",
   "execution_count": 48,
   "id": "17103247",
   "metadata": {},
   "outputs": [
    {
     "name": "stdout",
     "output_type": "stream",
     "text": [
      "Quantum object: dims=[[2, 2], [2, 2]], shape=(4, 4), type='oper', dtype=CSR, isherm=True\n",
      "Qobj data =\n",
      "[[ 1.  0.  0.  0.]\n",
      " [ 0. -1.  0.  0.]\n",
      " [ 0.  0. -1.  0.]\n",
      " [ 0.  0.  0.  1.]]\n",
      "Quantum object: dims=[[2, 2], [2, 2]], shape=(4, 4), type='oper', dtype=CSR, isherm=True\n",
      "Qobj data =\n",
      "[[0. 0. 1. 0.]\n",
      " [0. 0. 0. 1.]\n",
      " [1. 0. 0. 0.]\n",
      " [0. 1. 0. 0.]]\n",
      "Quantum object: dims=[[2, 2], [2, 2]], shape=(4, 4), type='oper', dtype=CSR, isherm=True\n",
      "Qobj data =\n",
      "[[0. 1. 0. 0.]\n",
      " [1. 0. 0. 0.]\n",
      " [0. 0. 0. 1.]\n",
      " [0. 0. 1. 0.]]\n",
      "Hamiltonian matrix:\n",
      "Quantum object: dims=[[2, 2], [2, 2]], shape=(4, 4), type='oper', dtype=CSR, isherm=True\n",
      "Qobj data =\n",
      "[[-1.  0.  0.  0.]\n",
      " [ 0.  1.  0.  0.]\n",
      " [ 0.  0.  1.  0.]\n",
      " [ 0.  0.  0. -1.]]\n"
     ]
    }
   ],
   "source": [
    "def create_ising_hamiltonian(L, J, h):\n",
    "    # Create the Pauli Z and identity operators\n",
    "    I = Q.qeye(2)\n",
    "    Z = Q.sigmaz()\n",
    "    X = Q.sigmax()\n",
    "\n",
    "    # Initialize Hamiltonian as zero\n",
    "    H = 0\n",
    "\n",
    "    # Sum over all interaction terms\n",
    "    for i in range(L - 1):\n",
    "        # Tensor product for interaction term between spin i and i+1\n",
    "        term = Q.tensor([I] * i + [Z] + [Z] + [I] * (L - i - 2))\n",
    "        H += -J * term\n",
    "        print(term)\n",
    "\n",
    "    # Add the magnetic field term\n",
    "    for i in range(L):\n",
    "        hterm = Q.tensor([I] * i + [X] + [I] * (L - i - 1))\n",
    "        print(hterm)\n",
    "        H += -h * hterm\n",
    "    return H\n",
    "\n",
    "# Example usage\n",
    "L = 2  # Linear length of spins\n",
    "J = 1  # Coupling constant\n",
    "h = 0  # External magnetic field\n",
    "\n",
    "H = create_ising_hamiltonian(L, J, h)\n",
    "print(\"Hamiltonian matrix:\")\n",
    "print(H)"
   ]
  },
  {
   "cell_type": "code",
   "execution_count": null,
   "id": "f3fb0ee1",
   "metadata": {},
   "outputs": [],
   "source": []
  },
  {
   "cell_type": "code",
   "execution_count": null,
   "id": "12685f0c",
   "metadata": {},
   "outputs": [],
   "source": []
  },
  {
   "cell_type": "code",
   "execution_count": null,
   "id": "d23d0073",
   "metadata": {},
   "outputs": [],
   "source": []
  },
  {
   "cell_type": "code",
   "execution_count": null,
   "id": "b850d383",
   "metadata": {},
   "outputs": [],
   "source": []
  }
 ],
 "metadata": {
  "kernelspec": {
   "display_name": "Python 3 (ipykernel)",
   "language": "python",
   "name": "python3"
  },
  "language_info": {
   "codemirror_mode": {
    "name": "ipython",
    "version": 3
   },
   "file_extension": ".py",
   "mimetype": "text/x-python",
   "name": "python",
   "nbconvert_exporter": "python",
   "pygments_lexer": "ipython3",
   "version": "3.11.7"
  }
 },
 "nbformat": 4,
 "nbformat_minor": 5
}
