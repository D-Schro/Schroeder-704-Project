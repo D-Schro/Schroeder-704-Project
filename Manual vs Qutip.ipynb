{
 "cells": [
  {
   "cell_type": "markdown",
   "id": "26a6dcd8",
   "metadata": {},
   "source": [
    "# N = 2 Manual"
   ]
  },
  {
   "cell_type": "code",
   "execution_count": 69,
   "id": "d38775d2",
   "metadata": {},
   "outputs": [],
   "source": [
    "import matplotlib as plt\n",
    "import numpy as np\n",
    "import scipy\n",
    "import qutip as Q\n",
    "%run Ising_Model_Hamiltonian_Function.ipynb"
   ]
  },
  {
   "cell_type": "code",
   "execution_count": 77,
   "id": "f6ebc2c4",
   "metadata": {},
   "outputs": [
    {
     "name": "stdout",
     "output_type": "stream",
     "text": [
      "[1. 0.]\n",
      "[0.92874646 0.07125354]\n",
      "[0.97891314 0.02108686]\n",
      "[0.99029034 0.00970966]\n",
      "[0.99446818 0.00553182]\n",
      "[0.99643842 0.00356158]\n",
      "[0.9975186 0.0024814]\n"
     ]
    },
    {
     "name": "stderr",
     "output_type": "stream",
     "text": [
      "C:\\Users\\danny\\AppData\\Local\\Temp\\ipykernel_6680\\1856579676.py:39: ComplexWarning: Casting complex values to real discards the imaginary part\n",
      "  matrix[row, col] = float(value[0])\n"
     ]
    }
   ],
   "source": [
    "p = np.linspace(0, 5, 7)\n",
    "for i in p:\n",
    "    H = ising_model_hamiltonian(2,1,i,0)\n",
    "    #print(H)\n",
    "    E, psi = H.groundstate()\n",
    "    #print(psi)\n",
    "    matrix = vec_to_matrix(2,psi,[0],[1])\n",
    "    #print(matrix)\n",
    "    u, singvals, v = np.linalg.svd(matrix)\n",
    "    print(singvals**2)"
   ]
  },
  {
   "cell_type": "markdown",
   "id": "67d92c4d",
   "metadata": {},
   "source": [
    "# N=2 Qutip"
   ]
  },
  {
   "cell_type": "code",
   "execution_count": 78,
   "id": "488bdf66",
   "metadata": {},
   "outputs": [
    {
     "name": "stdout",
     "output_type": "stream",
     "text": [
      "[0. 1.]\n",
      "[0.07125354 0.92874646]\n",
      "[0.02108686 0.97891314]\n",
      "[0.00970966 0.99029034]\n",
      "[0.00553182 0.99446818]\n",
      "[0.00356158 0.99643842]\n",
      "[0.0024814 0.9975186]\n"
     ]
    }
   ],
   "source": [
    "p = np.linspace(0, 5, 7)\n",
    "for i in p:\n",
    "    H = ising_model_hamiltonian(2,1,i,0)\n",
    "    #print(H)\n",
    "    E, psi = H.groundstate()\n",
    "    #print(psi)\n",
    "    rhoa = psi.ptrace([0])\n",
    "    #print(rhoa)\n",
    "    eigenvals = rhoa.eigenenergies()\n",
    "    threshold1 = abs(eigenvals) < 10**(-8)\n",
    "    eigenvals[threshold1] = 0\n",
    "    print(eigenvals)"
   ]
  },
  {
   "cell_type": "markdown",
   "id": "b959f623",
   "metadata": {},
   "source": [
    "# N=3 Manual"
   ]
  },
  {
   "cell_type": "code",
   "execution_count": 74,
   "id": "384c9761",
   "metadata": {},
   "outputs": [
    {
     "name": "stdout",
     "output_type": "stream",
     "text": [
      "[1. 0.]\n",
      "[0.85597261 0.14402739]\n",
      "[0.95716572 0.04283428]\n",
      "[0.9804143 0.0195857]\n",
      "[0.98887924 0.01112076]\n",
      "[0.99285256 0.00714744]\n",
      "[0.99502524 0.00497476]\n"
     ]
    },
    {
     "name": "stderr",
     "output_type": "stream",
     "text": [
      "C:\\Users\\danny\\AppData\\Local\\Temp\\ipykernel_6680\\1856579676.py:73: ComplexWarning: Casting complex values to real discards the imaginary part\n",
      "  matrix[row, col] = float(value[0])\n"
     ]
    }
   ],
   "source": [
    "p = np.linspace(0, 5, 7)\n",
    "for i in p:\n",
    "    H = ising_model_hamiltonian(3,1,i,0)\n",
    "    #print(H)\n",
    "    E, psi = H.groundstate()\n",
    "    #print(psi)\n",
    "    matrix = vec_to_matrix(3,psi,[0,2],[1])\n",
    "    #print(matrix)\n",
    "    u, singvals, v = np.linalg.svd(matrix)\n",
    "    print(singvals**2)"
   ]
  },
  {
   "cell_type": "markdown",
   "id": "5c301d7c",
   "metadata": {},
   "source": [
    "# N=3 Qutip"
   ]
  },
  {
   "cell_type": "code",
   "execution_count": 75,
   "id": "7ab72252",
   "metadata": {},
   "outputs": [
    {
     "name": "stdout",
     "output_type": "stream",
     "text": [
      "[0. 0. 0. 1.]\n",
      "[0.         0.         0.14402739 0.85597261]\n",
      "[0.         0.         0.04283428 0.95716572]\n",
      "[0.        0.        0.0195857 0.9804143]\n",
      "[0.         0.         0.01112076 0.98887924]\n",
      "[0.         0.         0.00714744 0.99285256]\n",
      "[0.         0.         0.00497476 0.99502524]\n"
     ]
    }
   ],
   "source": [
    "p = np.linspace(0, 5, 7)\n",
    "for i in p:\n",
    "    H = ising_model_hamiltonian(3,1,i,0)\n",
    "    #print(H)\n",
    "    E, psi = H.groundstate()\n",
    "    rhoa = Q.ptrace(psi,[0,2])\n",
    "    #print(rhoa)\n",
    "    eigenvals = rhoa.eigenenergies()\n",
    "    threshold1 = abs(eigenvals) < 10**(-8)\n",
    "    eigenvals[threshold1] = 0\n",
    "    print(eigenvals)"
   ]
  },
  {
   "cell_type": "code",
   "execution_count": null,
   "id": "7166da6f",
   "metadata": {},
   "outputs": [],
   "source": []
  }
 ],
 "metadata": {
  "kernelspec": {
   "display_name": "Python 3 (ipykernel)",
   "language": "python",
   "name": "python3"
  },
  "language_info": {
   "codemirror_mode": {
    "name": "ipython",
    "version": 3
   },
   "file_extension": ".py",
   "mimetype": "text/x-python",
   "name": "python",
   "nbconvert_exporter": "python",
   "pygments_lexer": "ipython3",
   "version": "3.11.7"
  }
 },
 "nbformat": 4,
 "nbformat_minor": 5
}
