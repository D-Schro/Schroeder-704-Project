{
 "cells": [
  {
   "cell_type": "code",
   "execution_count": 2,
   "id": "bde4722f",
   "metadata": {},
   "outputs": [],
   "source": [
    "import matplotlib as plt\n",
    "import numpy as np\n",
    "import scipy\n",
    "import qutip as Q\n",
    "%run Ising_Model_Hamiltonian_Function.ipynb"
   ]
  },
  {
   "cell_type": "markdown",
   "id": "1451fd94",
   "metadata": {},
   "source": [
    "# N=2 spins not periodic"
   ]
  },
  {
   "cell_type": "code",
   "execution_count": 14,
   "id": "f1c7adeb",
   "metadata": {},
   "outputs": [
    {
     "name": "stdout",
     "output_type": "stream",
     "text": [
      "The string of spins is not periodic\n",
      "The Hamiltonian is:\n",
      "Quantum object: dims=[[2, 2], [2, 2]], shape=(4, 4), type='oper', dtype=CSR, isherm=True\n",
      "Qobj data =\n",
      "[[-1.  0.  0.  0.]\n",
      " [ 0.  1.  0.  0.]\n",
      " [ 0.  0.  1.  0.]\n",
      " [ 0.  0.  0. -1.]]\n"
     ]
    },
    {
     "data": {
      "text/plain": [
       "(-1.0,\n",
       " Quantum object: dims=[[2, 2], [1, 1]], shape=(4, 1), type='ket', dtype=Dense\n",
       " Qobj data =\n",
       " [[1.]\n",
       "  [0.]\n",
       "  [0.]\n",
       "  [0.]])"
      ]
     },
     "execution_count": 14,
     "metadata": {},
     "output_type": "execute_result"
    }
   ],
   "source": [
    "H = ising_model_hamiltonian(2, 1, 0, 0)\n",
    "print(H)\n",
    "H.groundstate()"
   ]
  },
  {
   "cell_type": "markdown",
   "id": "73b1a4f1",
   "metadata": {},
   "source": [
    "# N=2 spins periodic"
   ]
  },
  {
   "cell_type": "code",
   "execution_count": 15,
   "id": "c3edcbc7",
   "metadata": {},
   "outputs": [
    {
     "name": "stdout",
     "output_type": "stream",
     "text": [
      "The string of spins is periodic\n",
      "The Hamiltonian is:\n",
      "Quantum object: dims=[[2, 2], [2, 2]], shape=(4, 4), type='oper', dtype=CSR, isherm=True\n",
      "Qobj data =\n",
      "[[-2.  0.  0.  0.]\n",
      " [ 0.  2.  0.  0.]\n",
      " [ 0.  0.  2.  0.]\n",
      " [ 0.  0.  0. -2.]]\n"
     ]
    },
    {
     "data": {
      "text/plain": [
       "(-2.0,\n",
       " Quantum object: dims=[[2, 2], [1, 1]], shape=(4, 1), type='ket', dtype=Dense\n",
       " Qobj data =\n",
       " [[1.]\n",
       "  [0.]\n",
       "  [0.]\n",
       "  [0.]])"
      ]
     },
     "execution_count": 15,
     "metadata": {},
     "output_type": "execute_result"
    }
   ],
   "source": [
    "H = ising_model_hamiltonian(2, 1, 0, 1)\n",
    "print(H)\n",
    "H.groundstate()"
   ]
  },
  {
   "cell_type": "markdown",
   "id": "36094034",
   "metadata": {},
   "source": [
    "# N=3 spins not periodic"
   ]
  },
  {
   "cell_type": "code",
   "execution_count": 8,
   "id": "8acc7bf2",
   "metadata": {},
   "outputs": [
    {
     "name": "stdout",
     "output_type": "stream",
     "text": [
      "The string of spins is not periodic\n",
      "The Hamiltonian is:\n",
      "Quantum object: dims=[[2, 2, 2], [2, 2, 2]], shape=(8, 8), type='oper', dtype=CSR, isherm=True\n",
      "Qobj data =\n",
      "[[-2.  0.  0.  0.  0.  0.  0.  0.]\n",
      " [ 0.  0.  0.  0.  0.  0.  0.  0.]\n",
      " [ 0.  0.  2.  0.  0.  0.  0.  0.]\n",
      " [ 0.  0.  0.  0.  0.  0.  0.  0.]\n",
      " [ 0.  0.  0.  0.  0.  0.  0.  0.]\n",
      " [ 0.  0.  0.  0.  0.  2.  0.  0.]\n",
      " [ 0.  0.  0.  0.  0.  0.  0.  0.]\n",
      " [ 0.  0.  0.  0.  0.  0.  0. -2.]]\n"
     ]
    },
    {
     "name": "stderr",
     "output_type": "stream",
     "text": [
      "D:\\Applications\\Anaconda\\Lib\\site-packages\\qutip\\core\\qobj.py:1626: UserWarning: Ground state may be degenerate.\n",
      "  warnings.warn(\"Ground state may be degenerate.\", UserWarning)\n"
     ]
    },
    {
     "data": {
      "text/plain": [
       "(-2.0,\n",
       " Quantum object: dims=[[2, 2, 2], [1, 1, 1]], shape=(8, 1), type='ket', dtype=Dense\n",
       " Qobj data =\n",
       " [[1.]\n",
       "  [0.]\n",
       "  [0.]\n",
       "  [0.]\n",
       "  [0.]\n",
       "  [0.]\n",
       "  [0.]\n",
       "  [0.]])"
      ]
     },
     "execution_count": 8,
     "metadata": {},
     "output_type": "execute_result"
    }
   ],
   "source": [
    "H = ising_model_hamiltonian(3, 1, 0, 0)\n",
    "print(H)\n",
    "H.groundstate()"
   ]
  },
  {
   "cell_type": "markdown",
   "id": "4ebb1f42",
   "metadata": {},
   "source": [
    "# N=3 spins periodic"
   ]
  },
  {
   "cell_type": "code",
   "execution_count": 40,
   "id": "2f82d198",
   "metadata": {},
   "outputs": [
    {
     "name": "stdout",
     "output_type": "stream",
     "text": [
      "The string of spins is periodic\n",
      "The Hamiltonian is:\n",
      "Quantum object: dims=[[2, 2, 2], [2, 2, 2]], shape=(8, 8), type='oper', dtype=CSR, isherm=True\n",
      "Qobj data =\n",
      "[[-3.  0.  0.  0.  0.  0.  0.  0.]\n",
      " [ 0.  1.  0.  0.  0.  0.  0.  0.]\n",
      " [ 0.  0.  1.  0.  0.  0.  0.  0.]\n",
      " [ 0.  0.  0.  1.  0.  0.  0.  0.]\n",
      " [ 0.  0.  0.  0.  1.  0.  0.  0.]\n",
      " [ 0.  0.  0.  0.  0.  1.  0.  0.]\n",
      " [ 0.  0.  0.  0.  0.  0.  1.  0.]\n",
      " [ 0.  0.  0.  0.  0.  0.  0. -3.]]\n"
     ]
    },
    {
     "data": {
      "text/plain": [
       "(-3.0,\n",
       " Quantum object: dims=[[2, 2, 2], [1, 1, 1]], shape=(8, 1), type='ket', dtype=Dense\n",
       " Qobj data =\n",
       " [[1.]\n",
       "  [0.]\n",
       "  [0.]\n",
       "  [0.]\n",
       "  [0.]\n",
       "  [0.]\n",
       "  [0.]\n",
       "  [0.]])"
      ]
     },
     "execution_count": 40,
     "metadata": {},
     "output_type": "execute_result"
    }
   ],
   "source": [
    "H = ising_model_hamiltonian(3, 1, 0, 1)\n",
    "print(H)\n",
    "H.groundstate()"
   ]
  },
  {
   "cell_type": "code",
   "execution_count": 89,
   "id": "4e71471c",
   "metadata": {},
   "outputs": [
    {
     "name": "stdout",
     "output_type": "stream",
     "text": [
      "Quantum object: dims=[[2, 2], [1, 1]], shape=(4, 1), type='ket', dtype=Dense\n",
      "Qobj data =\n",
      "[[1.]\n",
      " [0.]\n",
      " [0.]\n",
      " [0.]]\n"
     ]
    },
    {
     "data": {
      "text/plain": [
       "(<Figure size 640x480 with 1 Axes>,\n",
       " <Axes: xlabel='last particles', ylabel='first particles'>)"
      ]
     },
     "execution_count": 89,
     "metadata": {},
     "output_type": "execute_result"
    },
    {
     "data": {
      "image/png": "[encoded data removed]",
      "text/plain": [
       "<Figure size 640x480 with 1 Axes>"
      ]
     },
     "metadata": {},
     "output_type": "display_data"
    }
   ],
   "source": [
    "F=Q.tensor(Q.basis(2,0),Q.basis(2,0))\n",
    "print(F)\n",
    "Q.plot_schmidt(F)"
   ]
  },
  {
   "cell_type": "code",
   "execution_count": 70,
   "id": "2bd5e784",
   "metadata": {},
   "outputs": [
    {
     "data": {
      "text/latex": [
       "Quantum object: dims=[[3], [1]], shape=(3, 1), type='ket', dtype=Dense$$\\left(\\begin{array}{cc}0\\\\0\\\\1\\end{array}\\right)$$"
      ],
      "text/plain": [
       "Quantum object: dims=[[3], [1]], shape=(3, 1), type='ket', dtype=Dense\n",
       "Qobj data =\n",
       "[[0.]\n",
       " [0.]\n",
       " [1.]]"
      ]
     },
     "execution_count": 70,
     "metadata": {},
     "output_type": "execute_result"
    }
   ],
   "source": [
    "Q.basis(3,2)"
   ]
  },
  {
   "cell_type": "code",
   "execution_count": 24,
   "id": "f9c72940",
   "metadata": {},
   "outputs": [
    {
     "data": {
      "text/latex": [
       "Quantum object: dims=[[2], [1]], shape=(2, 1), type='ket', dtype=Dense$$\\left(\\begin{array}{cc}0\\\\1\\end{array}\\right)$$"
      ],
      "text/plain": [
       "Quantum object: dims=[[2], [1]], shape=(2, 1), type='ket', dtype=Dense\n",
       "Qobj data =\n",
       "[[0.]\n",
       " [1.]]"
      ]
     },
     "execution_count": 24,
     "metadata": {},
     "output_type": "execute_result"
    }
   ],
   "source": [
    "Q.basis(2,1)"
   ]
  },
  {
   "cell_type": "code",
   "execution_count": 85,
   "id": "6d55dd20",
   "metadata": {},
   "outputs": [
    {
     "data": {
      "text/plain": [
       "SVDResult(U=array([[1., 0.],\n",
       "       [0., 1.]]), S=array([1., 0.]), Vh=array([[1., 0.],\n",
       "       [0., 1.]]))"
      ]
     },
     "execution_count": 85,
     "metadata": {},
     "output_type": "execute_result"
    }
   ],
   "source": [
    "np.linalg.svd(np.array([[1,0],[0,0]]))"
   ]
  },
  {
   "cell_type": "code",
   "execution_count": 84,
   "id": "fc2a73cd",
   "metadata": {},
   "outputs": [
    {
     "data": {
      "text/plain": [
       "array([[1, 0],\n",
       "       [0, 0]])"
      ]
     },
     "execution_count": 84,
     "metadata": {},
     "output_type": "execute_result"
    }
   ],
   "source": [
    "np.array([[1,0],[0,0]])"
   ]
  },
  {
   "cell_type": "code",
   "execution_count": null,
   "id": "0ec7b861",
   "metadata": {},
   "outputs": [],
   "source": []
  }
 ],
 "metadata": {
  "kernelspec": {
   "display_name": "Python 3 (ipykernel)",
   "language": "python",
   "name": "python3"
  },
  "language_info": {
   "codemirror_mode": {
    "name": "ipython",
    "version": 3
   },
   "file_extension": ".py",
   "mimetype": "text/x-python",
   "name": "python",
   "nbconvert_exporter": "python",
   "pygments_lexer": "ipython3",
   "version": "3.11.7"
  }
 },
 "nbformat": 4,
 "nbformat_minor": 5
}
