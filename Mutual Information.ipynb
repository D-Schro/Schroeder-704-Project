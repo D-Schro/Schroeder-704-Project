{
 "cells": [
  {
   "cell_type": "code",
   "execution_count": 5,
   "id": "6cdb7624",
   "metadata": {},
   "outputs": [],
   "source": [
    "%run Ising_Model_Hamiltonian_Function.ipynb"
   ]
  },
  {
   "cell_type": "code",
   "execution_count": 35,
   "id": "5f4ce3fd",
   "metadata": {},
   "outputs": [],
   "source": [
    "def mutual_info(length, j, h, periodic, A, B):\n",
    "    #length = length of spin chain\n",
    "    #J = overall constant\n",
    "    #h = constant applied to field\n",
    "    #periodic determines if chain loops [0] = no [1] = yes\n",
    "    #A = A spin\n",
    "    #B = B spin\n",
    "    H = ising_model_hamiltonian(length,j,h,periodic)\n",
    "    E, psi = H.groundstate()\n",
    "    C = [item for i, item in enumerate(range(length)) if i not in A and i not in B]\n",
    "    rhoA = Q.ptrace(psi,A)\n",
    "    rhoB = Q.ptrace(psi,B)\n",
    "    rhoC = Q.ptrace(psi,C)\n",
    "    eigenvalsA = rhoA.eigenenergies()\n",
    "    threshold1 = abs(eigenvalsA) < 10**(-8)\n",
    "    eigenvalsA[threshold1] = 0\n",
    "    #print(eigenvals)\n",
    "    eigenvalscleanedA = [num for num in eigenvalsA if num != 0]\n",
    "    #print(eigenvalscleaned)\n",
    "    vnentropylistA = []\n",
    "    for l in eigenvalscleanedA:\n",
    "        vnentropylistA.append(-l*np.log(l))\n",
    "        #print(vnentropylist)\n",
    "        vnentropyA = sum(vnentropylistA)\n",
    "    print(vnentropyA)\n",
    "    eigenvalsB = rhoB.eigenenergies()\n",
    "    threshold1 = abs(eigenvalsB) < 10**(-8)\n",
    "    eigenvalsB[threshold1] = 0\n",
    "    #print(eigenvals)\n",
    "    eigenvalscleanedB = [num for num in eigenvalsB if num != 0]\n",
    "    #print(eigenvalscleaned)\n",
    "    vnentropylistB = []\n",
    "    for l in eigenvalscleanedB:\n",
    "        vnentropylistB.append(-l*np.log(l))\n",
    "        #print(vnentropylist)\n",
    "        vnentropyB = sum(vnentropylistB)\n",
    "    print(vnentropyB)\n",
    "    eigenvalsC = rhoC.eigenenergies()\n",
    "    threshold1 = abs(eigenvalsC) < 10**(-8)\n",
    "    eigenvalsC[threshold1] = 0\n",
    "    #print(eigenvals)\n",
    "    eigenvalscleanedC = [num for num in eigenvalsC if num != 0]\n",
    "    #print(eigenvalscleaned)\n",
    "    vnentropylistC = []\n",
    "    for l in eigenvalscleanedC:\n",
    "        vnentropylistC.append(-l*np.log(l))\n",
    "        #print(vnentropylist)\n",
    "        vnentropyC = sum(vnentropylistC)\n",
    "    print(vnentropyC)\n",
    "    \n",
    "    mutualinfo = vnentropyA + vnentropyB - vnentropyC\n",
    "    print(mutualinfo)\n",
    "    \n",
    "    distance = (-np.log(mutualinfo))/(2*np.log(2))\n",
    "    print(distance)"
   ]
  },
  {
   "cell_type": "code",
   "execution_count": 36,
   "id": "1fc3a378",
   "metadata": {},
   "outputs": [
    {
     "name": "stdout",
     "output_type": "stream",
     "text": [
      "0.2390144822737832\n",
      "0.34141366882087754\n",
      "0.23901448227378333\n",
      "0.3414136688208774\n",
      "0.7752036378488226\n"
     ]
    }
   ],
   "source": [
    "mutual_info(3,1,1,0,[0],[1])"
   ]
  },
  {
   "cell_type": "code",
   "execution_count": 71,
   "id": "cacbb3c8",
   "metadata": {},
   "outputs": [],
   "source": [
    "def correlation_function(length, periodic):\n",
    "    #length = length of spin chain\n",
    "    #J = overall constant\n",
    "    #h = constant applied to field\n",
    "    #periodic determines if chain loops [0] = no [1] = yes\n",
    "    I = Q.qeye(2)\n",
    "    z = Q.sigmaz()\n",
    "    \n",
    "    combinations = []\n",
    "    for i in range(length):\n",
    "        for j in range(length):\n",
    "            if i != j:  # Exclude pairs where i equals j\n",
    "                combinations.append([i, j])\n",
    "    print(combinations)\n",
    "\n",
    "    czz1terms = []\n",
    "    czz2terms = []\n",
    "\n",
    "     # Iterate through each combination\n",
    "    for combo in combinations:\n",
    "        tensors1 = [I for _ in range(length)]\n",
    "        # Construct the tensor product for this combination\n",
    "        for i in combo:\n",
    "            tensors1[i] = z\n",
    "        term = Q.tensor(tensors1)  # Compute the tensor product\n",
    "        czz1terms.append(term)\n",
    "    #print(czz1terms)\n",
    "    \n",
    "    tensors2 = [I for _ in range(length)]\n",
    "    for i in range(length):\n",
    "        tensors2[i] = z\n",
    "        term = Q.tensor(tensors2)\n",
    "        czz2terms.append(term)\n",
    "    #print(czz2terms)"
   ]
  },
  {
   "cell_type": "code",
   "execution_count": 72,
   "id": "6bfc72a8",
   "metadata": {},
   "outputs": [
    {
     "name": "stdout",
     "output_type": "stream",
     "text": [
      "[[0, 1], [0, 2], [1, 0], [1, 2], [2, 0], [2, 1]]\n",
      "[Quantum object: dims=[[2, 2, 2], [2, 2, 2]], shape=(8, 8), type='oper', dtype=CSR, isherm=True\n",
      "Qobj data =\n",
      "[[ 1.  0.  0.  0.  0.  0.  0.  0.]\n",
      " [ 0.  1.  0.  0.  0.  0.  0.  0.]\n",
      " [ 0.  0.  1.  0.  0.  0.  0.  0.]\n",
      " [ 0.  0.  0.  1.  0.  0.  0.  0.]\n",
      " [ 0.  0.  0.  0. -1.  0.  0.  0.]\n",
      " [ 0.  0.  0.  0.  0. -1.  0.  0.]\n",
      " [ 0.  0.  0.  0.  0.  0. -1.  0.]\n",
      " [ 0.  0.  0.  0.  0.  0.  0. -1.]], Quantum object: dims=[[2, 2, 2], [2, 2, 2]], shape=(8, 8), type='oper', dtype=CSR, isherm=True\n",
      "Qobj data =\n",
      "[[ 1.  0.  0.  0.  0.  0.  0.  0.]\n",
      " [ 0.  1.  0.  0.  0.  0.  0.  0.]\n",
      " [ 0.  0. -1.  0.  0.  0.  0.  0.]\n",
      " [ 0.  0.  0. -1.  0.  0.  0.  0.]\n",
      " [ 0.  0.  0.  0. -1.  0.  0.  0.]\n",
      " [ 0.  0.  0.  0.  0. -1.  0.  0.]\n",
      " [ 0.  0.  0.  0.  0.  0.  1.  0.]\n",
      " [ 0.  0.  0.  0.  0.  0.  0.  1.]], Quantum object: dims=[[2, 2, 2], [2, 2, 2]], shape=(8, 8), type='oper', dtype=CSR, isherm=True\n",
      "Qobj data =\n",
      "[[ 1.  0.  0.  0.  0.  0.  0.  0.]\n",
      " [ 0. -1.  0.  0.  0.  0.  0.  0.]\n",
      " [ 0.  0. -1.  0.  0.  0.  0.  0.]\n",
      " [ 0.  0.  0.  1.  0.  0.  0.  0.]\n",
      " [ 0.  0.  0.  0. -1.  0.  0.  0.]\n",
      " [ 0.  0.  0.  0.  0.  1.  0.  0.]\n",
      " [ 0.  0.  0.  0.  0.  0.  1.  0.]\n",
      " [ 0.  0.  0.  0.  0.  0.  0. -1.]]]\n"
     ]
    }
   ],
   "source": [
    "correlation_function(3,0)"
   ]
  },
  {
   "cell_type": "code",
   "execution_count": null,
   "id": "d7aa91e6",
   "metadata": {},
   "outputs": [],
   "source": [
    "def tensor_product_combinations(spin_chain_length, combinations):\n",
    "    pauli_z = sigmaz()  # Pauli Z matrix\n",
    "    identity_matrix = identity(2)  # Identity matrix for qubit\n",
    "\n",
    "    # List to hold the resulting tensor products\n",
    "    results = []\n",
    "\n",
    "    # Iterate through each combination\n",
    "    for combo in combinations:\n",
    "        # Start with the identity operator\n",
    "        result = identity(1)\n",
    "\n",
    "        # Construct the tensor product for this combination\n",
    "        for index in range(spin_chain_length):\n",
    "            if index in combo:\n",
    "                result = tensor(result, pauli_z)  # Use Pauli Z for this index\n",
    "            else:\n",
    "                result = tensor(result, identity_matrix)  # Use identity for other indices\n",
    "        \n",
    "        results.append(result)\n",
    "\n",
    "    return results"
   ]
  },
  {
   "cell_type": "code",
   "execution_count": 52,
   "id": "26169162",
   "metadata": {},
   "outputs": [
    {
     "name": "stdout",
     "output_type": "stream",
     "text": [
      "[0 1 2]\n"
     ]
    }
   ],
   "source": []
  },
  {
   "cell_type": "code",
   "execution_count": null,
   "id": "fad6bbc5",
   "metadata": {},
   "outputs": [],
   "source": []
  }
 ],
 "metadata": {
  "kernelspec": {
   "display_name": "Python 3 (ipykernel)",
   "language": "python",
   "name": "python3"
  },
  "language_info": {
   "codemirror_mode": {
    "name": "ipython",
    "version": 3
   },
   "file_extension": ".py",
   "mimetype": "text/x-python",
   "name": "python",
   "nbconvert_exporter": "python",
   "pygments_lexer": "ipython3",
   "version": "3.11.7"
  }
 },
 "nbformat": 4,
 "nbformat_minor": 5
}
